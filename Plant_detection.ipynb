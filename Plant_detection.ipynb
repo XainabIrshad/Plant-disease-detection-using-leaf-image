{
  "nbformat": 4,
  "nbformat_minor": 0,
  "metadata": {
    "colab": {
      "provenance": [],
      "gpuType": "T4"
    },
    "kernelspec": {
      "name": "python3",
      "display_name": "Python 3"
    },
    "language_info": {
      "name": "python"
    },
    "accelerator": "GPU"
  },
  "cells": [
    {
      "cell_type": "code",
      "execution_count": null,
      "metadata": {
        "colab": {
          "base_uri": "https://localhost:8080/"
        },
        "id": "5yzHunJ3R7K9",
        "outputId": "788250f6-bb73-4e9d-b978-8803f5009a29"
      },
      "outputs": [
        {
          "output_type": "stream",
          "name": "stdout",
          "text": [
            "Mounted at /content/drive\n"
          ]
        }
      ],
      "source": [
        "from google.colab import drive\n",
        "drive.mount('/content/drive', force_remount=True)"
      ]
    },
    {
      "cell_type": "markdown",
      "source": [
        "# IMPORTING LIBRARIES"
      ],
      "metadata": {
        "id": "I-1XWUqEtW0h"
      }
    },
    {
      "cell_type": "code",
      "source": [
        "import numpy as np\n",
        "import pandas as pd\n",
        "import matplotlib.pyplot as plt\n",
        "from keras.preprocessing.image import ImageDataGenerator\n",
        "from tensorflow.keras.applications import VGG16\n",
        "from tensorflow.keras.optimizers import Nadam\n",
        "from keras import models, layers, optimizers\n",
        "import matplotlib.image as mpimg\n",
        "import math\n",
        "import random\n",
        "import os"
      ],
      "metadata": {
        "id": "_g5YZNEHj0AK"
      },
      "execution_count": null,
      "outputs": []
    },
    {
      "cell_type": "markdown",
      "source": [
        "# Set directory paths and initialize parameter"
      ],
      "metadata": {
        "id": "dXwbX6BxtiE1"
      }
    },
    {
      "cell_type": "code",
      "source": [
        "BASE_DIR = '/content/drive/MyDrive/Plant Dataset (1)'\n",
        "TRAIN_DIR = os.path.join(BASE_DIR, 'Train')\n",
        "TEST_DIR = os.path.join(BASE_DIR, 'Test')\n",
        "BATCH_SIZE = 20\n",
        "EPOCHS = 30\n",
        "\n",
        "\n",
        "TRAIN_DATAGEN = ImageDataGenerator(\n",
        "                rescale = 1.0/255,\n",
        "                validation_split = 0.2\n",
        "                )\n",
        "\n",
        "\n",
        "TEST_DATAGEN = ImageDataGenerator(\n",
        "                rescale = 1.0/255\n",
        "                )"
      ],
      "metadata": {
        "id": "fWrlN-AMl5pN"
      },
      "execution_count": null,
      "outputs": []
    },
    {
      "cell_type": "code",
      "source": [
        "print(\"TRAINING DATA:\")\n",
        "for i in os.listdir(TRAIN_DIR):\n",
        "    files = os.listdir(TRAIN_DIR+\"/\"+i)\n",
        "    print(f'{i} : {len(files)} files')\n",
        "\n",
        "print(\"\\n\\nTEST DATA:\")\n",
        "for i in os.listdir(TEST_DIR):\n",
        "    files = os.listdir(TEST_DIR+\"/\"+i)\n",
        "    print(f'{i} : {len(files)} files')"
      ],
      "metadata": {
        "colab": {
          "base_uri": "https://localhost:8080/"
        },
        "id": "2S2og7EpnzwO",
        "outputId": "1b69d8ab-da8d-4303-dc82-408c4c5ff155"
      },
      "execution_count": null,
      "outputs": [
        {
          "output_type": "stream",
          "name": "stdout",
          "text": [
            "TRAINING DATA:\n",
            "Healthy Plant : 294 files\n",
            "Unhealthy Plant : 318 files\n",
            "\n",
            "\n",
            "TEST DATA:\n",
            "Unhealthy Plant : 76 files\n",
            "Healthy Plant : 77 files\n"
          ]
        }
      ]
    },
    {
      "cell_type": "code",
      "source": [
        "train_generator = TRAIN_DATAGEN.flow_from_directory(\n",
        "                    TRAIN_DIR,\n",
        "                    target_size = (150,150),\n",
        "                    batch_size = BATCH_SIZE,\n",
        "                    class_mode = 'categorical',\n",
        "                    subset='training'\n",
        "                  )\n",
        "\n",
        "validation_generator = TRAIN_DATAGEN.flow_from_directory(\n",
        "                    TRAIN_DIR,\n",
        "                    target_size = (150,150),\n",
        "                    batch_size = BATCH_SIZE,\n",
        "                    class_mode = 'categorical',\n",
        "                    subset='validation'\n",
        "                  )\n",
        "\n",
        "test_generator = TEST_DATAGEN.flow_from_directory(\n",
        "                    TEST_DIR,\n",
        "                    target_size = (150,150),\n",
        "                    batch_size = BATCH_SIZE,\n",
        "                    class_mode = 'categorical'\n",
        "                  )"
      ],
      "metadata": {
        "id": "wnzak7Jtn0G0",
        "colab": {
          "base_uri": "https://localhost:8080/"
        },
        "outputId": "c7322c23-f3ab-4ae8-8e14-218f899f4f5e"
      },
      "execution_count": null,
      "outputs": [
        {
          "output_type": "stream",
          "name": "stdout",
          "text": [
            "Found 491 images belonging to 2 classes.\n",
            "Found 121 images belonging to 2 classes.\n",
            "Found 153 images belonging to 2 classes.\n"
          ]
        }
      ]
    },
    {
      "cell_type": "code",
      "source": [
        "conv_base = VGG16(\n",
        "    weights='imagenet',\n",
        "    include_top=False,\n",
        "    input_shape=(150, 150, 3)\n",
        ")"
      ],
      "metadata": {
        "id": "dp6xNzm9pWhZ",
        "colab": {
          "base_uri": "https://localhost:8080/"
        },
        "outputId": "0546f1fb-5588-4fa1-c3e2-cbb13acfbc91"
      },
      "execution_count": null,
      "outputs": [
        {
          "output_type": "stream",
          "name": "stdout",
          "text": [
            "Downloading data from https://storage.googleapis.com/tensorflow/keras-applications/vgg16/vgg16_weights_tf_dim_ordering_tf_kernels_notop.h5\n",
            "58889256/58889256 [==============================] - 0s 0us/step\n"
          ]
        }
      ]
    },
    {
      "cell_type": "code",
      "source": [
        "model = models.Sequential()\n",
        "model.add(conv_base)\n",
        "model.add(layers.Flatten())\n",
        "model.add(layers.Dense(256, activation='relu'))\n",
        "model.add(layers.Dropout(0.5))\n",
        "model.add(layers.Dense(2, activation='sigmoid'))"
      ],
      "metadata": {
        "id": "KDlASYxZpYuR"
      },
      "execution_count": null,
      "outputs": []
    },
    {
      "cell_type": "code",
      "source": [
        "model.compile(loss='categorical_crossentropy', optimizer=Nadam(learning_rate=2e-5), metrics=['acc'])\n"
      ],
      "metadata": {
        "id": "ZBHOm94YpbCC"
      },
      "execution_count": null,
      "outputs": []
    },
    {
      "cell_type": "code",
      "source": [
        "history = model.fit(\n",
        "                                train_generator,\n",
        "                                epochs = EPOCHS,\n",
        "                                validation_data = validation_generator,\n",
        "                                validation_steps = validation_generator.samples // BATCH_SIZE,\n",
        "                             )\n",
        "\n"
      ],
      "metadata": {
        "id": "ux9wtypqpdZ6",
        "colab": {
          "base_uri": "https://localhost:8080/"
        },
        "outputId": "2f3fa987-6991-4e5c-904a-b91fa7706182"
      },
      "execution_count": null,
      "outputs": [
        {
          "output_type": "stream",
          "name": "stdout",
          "text": [
            "Epoch 1/30\n",
            "25/25 [==============================] - 199s 7s/step - loss: 0.1105 - acc: 0.9552 - val_loss: 0.0057 - val_acc: 1.0000\n",
            "Epoch 2/30\n",
            "25/25 [==============================] - 72s 3s/step - loss: 1.0720e-04 - acc: 1.0000 - val_loss: 0.0011 - val_acc: 1.0000\n",
            "Epoch 3/30\n",
            "25/25 [==============================] - 69s 3s/step - loss: 4.4937e-05 - acc: 1.0000 - val_loss: 5.5108e-04 - val_acc: 1.0000\n",
            "Epoch 4/30\n",
            "25/25 [==============================] - 65s 3s/step - loss: 2.3273e-05 - acc: 1.0000 - val_loss: 3.6609e-04 - val_acc: 1.0000\n",
            "Epoch 5/30\n",
            "25/25 [==============================] - 67s 3s/step - loss: 2.2274e-05 - acc: 1.0000 - val_loss: 2.3159e-04 - val_acc: 1.0000\n",
            "Epoch 6/30\n",
            "25/25 [==============================] - 72s 3s/step - loss: 1.7501e-05 - acc: 1.0000 - val_loss: 1.5406e-04 - val_acc: 1.0000\n",
            "Epoch 7/30\n",
            "25/25 [==============================] - 77s 3s/step - loss: 2.6866e-06 - acc: 1.0000 - val_loss: 1.2521e-04 - val_acc: 1.0000\n",
            "Epoch 8/30\n",
            "25/25 [==============================] - 78s 3s/step - loss: 1.5489e-06 - acc: 1.0000 - val_loss: 1.1798e-04 - val_acc: 1.0000\n",
            "Epoch 9/30\n",
            "25/25 [==============================] - 69s 3s/step - loss: 1.2307e-05 - acc: 1.0000 - val_loss: 8.0826e-05 - val_acc: 1.0000\n",
            "Epoch 10/30\n",
            "25/25 [==============================] - 72s 3s/step - loss: 1.6487e-06 - acc: 1.0000 - val_loss: 7.7375e-05 - val_acc: 1.0000\n",
            "Epoch 11/30\n",
            "25/25 [==============================] - 63s 3s/step - loss: 3.0903e-06 - acc: 1.0000 - val_loss: 8.1921e-05 - val_acc: 1.0000\n",
            "Epoch 12/30\n",
            "25/25 [==============================] - 65s 3s/step - loss: 1.0340e-06 - acc: 1.0000 - val_loss: 7.3013e-05 - val_acc: 1.0000\n",
            "Epoch 13/30\n",
            "25/25 [==============================] - 69s 3s/step - loss: 8.7035e-07 - acc: 1.0000 - val_loss: 6.9335e-05 - val_acc: 1.0000\n",
            "Epoch 14/30\n",
            "25/25 [==============================] - 71s 3s/step - loss: 1.3887e-06 - acc: 1.0000 - val_loss: 6.0323e-05 - val_acc: 1.0000\n",
            "Epoch 15/30\n",
            "25/25 [==============================] - 65s 3s/step - loss: 6.4970e-07 - acc: 1.0000 - val_loss: 5.3923e-05 - val_acc: 1.0000\n",
            "Epoch 16/30\n",
            "25/25 [==============================] - 70s 3s/step - loss: 9.8764e-07 - acc: 1.0000 - val_loss: 5.2375e-05 - val_acc: 1.0000\n",
            "Epoch 17/30\n",
            "25/25 [==============================] - 69s 3s/step - loss: 1.7492e-06 - acc: 1.0000 - val_loss: 6.4108e-05 - val_acc: 1.0000\n",
            "Epoch 18/30\n",
            "25/25 [==============================] - 69s 3s/step - loss: 1.1406e-06 - acc: 1.0000 - val_loss: 6.7019e-05 - val_acc: 1.0000\n",
            "Epoch 19/30\n",
            "25/25 [==============================] - 76s 3s/step - loss: 7.3150e-07 - acc: 1.0000 - val_loss: 5.7248e-05 - val_acc: 1.0000\n",
            "Epoch 20/30\n",
            "25/25 [==============================] - 76s 3s/step - loss: 5.0208e-07 - acc: 1.0000 - val_loss: 5.2634e-05 - val_acc: 1.0000\n",
            "Epoch 21/30\n",
            "25/25 [==============================] - 72s 3s/step - loss: 3.1777e-06 - acc: 1.0000 - val_loss: 4.3794e-05 - val_acc: 1.0000\n",
            "Epoch 22/30\n",
            "25/25 [==============================] - 72s 3s/step - loss: 5.7749e-06 - acc: 1.0000 - val_loss: 1.7024e-05 - val_acc: 1.0000\n",
            "Epoch 23/30\n",
            "25/25 [==============================] - 77s 3s/step - loss: 1.2235e-06 - acc: 1.0000 - val_loss: 1.1353e-05 - val_acc: 1.0000\n",
            "Epoch 24/30\n",
            "25/25 [==============================] - 75s 3s/step - loss: 4.3483e-07 - acc: 1.0000 - val_loss: 1.0880e-05 - val_acc: 1.0000\n",
            "Epoch 25/30\n",
            "25/25 [==============================] - 71s 3s/step - loss: 2.6682e-07 - acc: 1.0000 - val_loss: 1.0222e-05 - val_acc: 1.0000\n",
            "Epoch 26/30\n",
            "25/25 [==============================] - 68s 3s/step - loss: 1.6267e-07 - acc: 1.0000 - val_loss: 1.0259e-05 - val_acc: 1.0000\n",
            "Epoch 27/30\n",
            "25/25 [==============================] - 66s 3s/step - loss: 3.6054e-07 - acc: 1.0000 - val_loss: 1.0271e-05 - val_acc: 1.0000\n",
            "Epoch 28/30\n",
            "25/25 [==============================] - 75s 3s/step - loss: 1.6582e-07 - acc: 1.0000 - val_loss: 1.0116e-05 - val_acc: 1.0000\n",
            "Epoch 29/30\n",
            "25/25 [==============================] - 69s 3s/step - loss: 6.7638e-07 - acc: 1.0000 - val_loss: 1.0876e-05 - val_acc: 1.0000\n",
            "Epoch 30/30\n",
            "25/25 [==============================] - 77s 3s/step - loss: 9.7358e-08 - acc: 1.0000 - val_loss: 1.2152e-05 - val_acc: 1.0000\n"
          ]
        }
      ]
    },
    {
      "cell_type": "code",
      "source": [
        "def plot_acc():\n",
        "    train_acc = history.history['acc']\n",
        "    val_acc = history.history['val_acc']\n",
        "    train_loss = history.history['loss']\n",
        "    val_loss = history.history['val_loss']\n",
        "\n",
        "    epochs = range(1, len(train_acc)+1)\n",
        "\n",
        "    plt.plot(epochs, train_acc, 'bo', label='Training accuracy')\n",
        "    plt.plot(epochs, val_acc, 'bo', label='Validation accuracy', color='red')\n",
        "    plt.title(\"Training and Validation Accuracy\")\n",
        "    plt.legend()\n",
        "    plt.figure()\n",
        "\n",
        "    plt.plot(epochs, train_loss, 'bo', label='Training loss')\n",
        "    plt.plot(epochs, val_loss, 'bo', label='Validation loss', color='red')\n",
        "    plt.title(\"Training and Validation loss\")\n",
        "    plt.legend()\n",
        "    plt.show()\n",
        "\n",
        "    print(\"Average Validation accuracy: \", np.mean(val_acc))\n",
        "    print(\"Average Validation loss: \", np.mean(val_loss))\n",
        "\n",
        "plot_acc()"
      ],
      "metadata": {
        "id": "cZ6A00xupiXD",
        "colab": {
          "base_uri": "https://localhost:8080/",
          "height": 1000
        },
        "outputId": "1cc844d7-5bcb-4324-e8f0-be2bf0ea678c"
      },
      "execution_count": null,
      "outputs": [
        {
          "output_type": "stream",
          "name": "stderr",
          "text": [
            "<ipython-input-12-9bcbdeaa28d4>:10: UserWarning: color is redundantly defined by the 'color' keyword argument and the fmt string \"bo\" (-> color='b'). The keyword argument will take precedence.\n",
            "  plt.plot(epochs, val_acc, 'bo', label='Validation accuracy', color='red')\n",
            "<ipython-input-12-9bcbdeaa28d4>:16: UserWarning: color is redundantly defined by the 'color' keyword argument and the fmt string \"bo\" (-> color='b'). The keyword argument will take precedence.\n",
            "  plt.plot(epochs, val_loss, 'bo', label='Validation loss', color='red')\n"
          ]
        },
        {
          "output_type": "display_data",
          "data": {
            "text/plain": [
              "<Figure size 640x480 with 1 Axes>"
            ],
            "image/png": "[encoded data removed]"
          },
          "metadata": {}
        },
        {
          "output_type": "display_data",
          "data": {
            "text/plain": [
              "<Figure size 640x480 with 1 Axes>"
            ],
            "image/png": "[encoded data removed]"
          },
          "metadata": {}
        },
        {
          "output_type": "stream",
          "name": "stdout",
          "text": [
            "Average Validation accuracy:  1.0\n",
            "Average Validation loss:  0.0003065677569490314\n"
          ]
        }
      ]
    },
    {
      "cell_type": "code",
      "source": [
        "conv_base.trainable = True\n",
        "\n",
        "set_trainable = False\n",
        "for layer in conv_base.layers:\n",
        "    if layer.name=='block5_conv1':\n",
        "        set_trainable = True\n",
        "    if set_trainable == True:\n",
        "        layer.trainable = True\n",
        "    else:\n",
        "        layer.trainable = False"
      ],
      "metadata": {
        "id": "UCFJWJm1pl4p"
      },
      "execution_count": null,
      "outputs": []
    },
    {
      "cell_type": "code",
      "source": [
        "test_loss, test_acc = model.evaluate(test_generator)\n",
        "print(\"Test Accuracy: \", test_acc)"
      ],
      "metadata": {
        "id": "7EFXqdEOprvz",
        "colab": {
          "base_uri": "https://localhost:8080/"
        },
        "outputId": "00167ca6-31a5-4580-fe5f-51a1d86b491f"
      },
      "execution_count": null,
      "outputs": [
        {
          "output_type": "stream",
          "name": "stdout",
          "text": [
            "8/8 [==============================] - 18s 2s/step - loss: 2.9678e-06 - acc: 1.0000\n",
            "Test Accuracy:  1.0\n"
          ]
        }
      ]
    }
  ]
}